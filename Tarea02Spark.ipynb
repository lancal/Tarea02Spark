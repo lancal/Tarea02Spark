{
  "nbformat": 4,
  "nbformat_minor": 0,
  "metadata": {
    "colab": {
      "name": "Tarea02Spark.ipynb",
      "version": "0.3.2",
      "provenance": [],
      "collapsed_sections": [],
      "include_colab_link": true
    },
    "kernelspec": {
      "name": "python3",
      "display_name": "Python 3"
    }
  },
  "cells": [
    {
      "cell_type": "markdown",
      "metadata": {
        "id": "view-in-github",
        "colab_type": "text"
      },
      "source": [
        "<a href=\"https://colab.research.google.com/github/lancal/Tarea02Spark/blob/master/Tarea02Spark.ipynb\" target=\"_parent\"><img src=\"https://colab.research.google.com/assets/colab-badge.svg\" alt=\"Open In Colab\"/></a>"
      ]
    },
    {
      "cell_type": "markdown",
      "metadata": {
        "id": "N7CvYgkXkn5S",
        "colab_type": "text"
      },
      "source": [
        ""
      ]
    },
    {
      "cell_type": "code",
      "metadata": {
        "id": "EmuktfwxjQm9",
        "colab_type": "code",
        "colab": {}
      },
      "source": [
        "!apt-get install openjdk-8-jdk-headless -qq > /dev/null\n",
        "!wget -q http://apache.osuosl.org/spark/spark-2.3.3/spark-2.3.3-bin-hadoop2.7.tgz\n",
        "!tar xf spark-2.3.3-bin-hadoop2.7.tgz\n",
        "!pip install -q findspark"
      ],
      "execution_count": 0,
      "outputs": []
    },
    {
      "cell_type": "code",
      "metadata": {
        "id": "o7fIOiFkHJPd",
        "colab_type": "code",
        "outputId": "fa695a92-2574-4d2f-e58e-7b62a9f584cb",
        "colab": {
          "base_uri": "https://localhost:8080/",
          "height": 34
        }
      },
      "source": [
        "!ls"
      ],
      "execution_count": 5,
      "outputs": [
        {
          "output_type": "stream",
          "text": [
            "sample_data  spark-2.3.3-bin-hadoop2.7\tspark-2.3.3-bin-hadoop2.7.tgz\n"
          ],
          "name": "stdout"
        }
      ]
    },
    {
      "cell_type": "code",
      "metadata": {
        "id": "2oobzxAdqDMd",
        "colab_type": "code",
        "colab": {}
      },
      "source": [
        "import os\n",
        "os.environ[\"JAVA_HOME\"] = \"/usr/lib/jvm/java-8-openjdk-amd64\"\n",
        "os.environ[\"SPARK_HOME\"] = \"/content/spark-2.3.3-bin-hadoop2.7\""
      ],
      "execution_count": 0,
      "outputs": []
    },
    {
      "cell_type": "code",
      "metadata": {
        "id": "q8m2_GviHOdf",
        "colab_type": "code",
        "outputId": "808eaae3-1460-491b-a645-fcfd748cff4b",
        "colab": {
          "base_uri": "https://localhost:8080/",
          "height": 68
        }
      },
      "source": [
        "!java --version\n"
      ],
      "execution_count": 7,
      "outputs": [
        {
          "output_type": "stream",
          "text": [
            "openjdk 11.0.3 2019-04-16\n",
            "OpenJDK Runtime Environment (build 11.0.3+7-Ubuntu-1ubuntu218.04.1)\n",
            "OpenJDK 64-Bit Server VM (build 11.0.3+7-Ubuntu-1ubuntu218.04.1, mixed mode, sharing)\n"
          ],
          "name": "stdout"
        }
      ]
    },
    {
      "cell_type": "code",
      "metadata": {
        "id": "lzoKvqWcqPJk",
        "colab_type": "code",
        "colab": {}
      },
      "source": [
        "import findspark\n",
        "findspark.init()\n",
        "from pyspark.sql import SparkSession\n",
        "from pyspark import SparkContext\n",
        "from pyspark.sql.types import *\n",
        "sqlSession = SparkSession.builder.master(\"local[*]\").getOrCreate()\n",
        "sc = SparkContext.getOrCreate()"
      ],
      "execution_count": 0,
      "outputs": []
    },
    {
      "cell_type": "code",
      "metadata": {
        "id": "rYQ7IfuSqbI_",
        "colab_type": "code",
        "outputId": "c6a95d0c-bec1-4d8e-c73e-c6329f0175ac",
        "colab": {
          "base_uri": "https://localhost:8080/",
          "height": 85
        }
      },
      "source": [
        "nums = sc.parallelize([1,2,3,4])\n",
        "squared = nums.map(lambda x: x * x).collect()\n",
        "for num in squared:\n",
        "  print (num)"
      ],
      "execution_count": 9,
      "outputs": [
        {
          "output_type": "stream",
          "text": [
            "1\n",
            "4\n",
            "9\n",
            "16\n"
          ],
          "name": "stdout"
        }
      ]
    },
    {
      "cell_type": "code",
      "metadata": {
        "id": "tqDayY3zqkv-",
        "colab_type": "code",
        "outputId": "8cc7a052-88d2-4287-e9b2-b509ce9c668a",
        "colab": {
          "resources": {
            "http://localhost:8080/nbextensions/google.colab/files.js": {
              "data": "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",
              "ok": true,
              "headers": [
                [
                  "content-type",
                  "application/javascript"
                ]
              ],
              "status": 200,
              "status_text": ""
            }
          },
          "base_uri": "https://localhost:8080/",
          "height": 88
        }
      },
      "source": [
        "from google.colab import files\n",
        "\n",
        "#drive.mount('drive');\n",
        "\n",
        "uploaded = files.upload()\n",
        "\n",
        "for fn in uploaded.keys():\n",
        "  print('User uploaded file \"{name}\" with length {length} bytes'.format(\n",
        "      name=fn, length=len(uploaded[fn])))"
      ],
      "execution_count": 23,
      "outputs": [
        {
          "output_type": "display_data",
          "data": {
            "text/html": [
              "\n",
              "     <input type=\"file\" id=\"files-7e090401-07c0-4d17-9f50-522e23b30779\" name=\"files[]\" multiple disabled />\n",
              "     <output id=\"result-7e090401-07c0-4d17-9f50-522e23b30779\">\n",
              "      Upload widget is only available when the cell has been executed in the\n",
              "      current browser session. Please rerun this cell to enable.\n",
              "      </output>\n",
              "      <script src=\"/nbextensions/google.colab/files.js\"></script> "
            ],
            "text/plain": [
              "<IPython.core.display.HTML object>"
            ]
          },
          "metadata": {
            "tags": []
          }
        },
        {
          "output_type": "stream",
          "text": [
            "Saving master.csv to master.csv\n",
            "User uploaded file \"master.csv\" with length 2228051 bytes\n"
          ],
          "name": "stdout"
        }
      ]
    },
    {
      "cell_type": "code",
      "metadata": {
        "id": "j-Pv588RKN_K",
        "colab_type": "code",
        "colab": {}
      },
      "source": [
        "from pyspark.sql import Row\n",
        "from pyspark.ml.linalg import Vectors\n",
        "from pyspark.ml.regression import LinearRegression\n",
        "from pyspark.ml.evaluation import RegressionEvaluator\n",
        "\n",
        "\n",
        "import math\n",
        "import pandas as pd\n",
        "import matplotlib.pylab as plt"
      ],
      "execution_count": 0,
      "outputs": []
    },
    {
      "cell_type": "markdown",
      "metadata": {
        "id": "nh6NXxsmCfZH",
        "colab_type": "text"
      },
      "source": [
        "Se crea RDD  y se almacena en cache, posteriormente se imprimen las 5 primeras lineas sin prepocesamiento ni limpieza."
      ]
    },
    {
      "cell_type": "code",
      "metadata": {
        "id": "bmkJd-9HKR2a",
        "colab_type": "code",
        "colab": {
          "base_uri": "https://localhost:8080/",
          "height": 122
        },
        "outputId": "2f67b4e4-185e-44e9-a523-aee2c96e8b23"
      },
      "source": [
        "suicidesRDD = sc.textFile(\"master.csv\")\n",
        "suicidesRDD.cache()\n",
        "#suicidesRDD = suicidesRDD.flatMap(lambda t:t.split(\",\"))\n",
        "suicidesRDD.take(5)\n",
        "#print (top5)"
      ],
      "execution_count": 24,
      "outputs": [
        {
          "output_type": "execute_result",
          "data": {
            "text/plain": [
              "['country,year,sex,age,suicides_no,population,suicides/100k pop,country-year,HDI for year,gdp_per_capita ($),generation',\n",
              " 'Albania,1987,male,15-24 years,21,312900,6.71,Albania1987,,796,Generation X',\n",
              " 'Albania,1987,male,35-54 years,16,308000,5.19,Albania1987,,796,Silent',\n",
              " 'Albania,1987,female,15-24 years,14,289700,4.83,Albania1987,,796,Generation X',\n",
              " 'Albania,1987,male,75+ years,1,21800,4.59,Albania1987,,796,G.I. Generation']"
            ]
          },
          "metadata": {
            "tags": []
          },
          "execution_count": 24
        }
      ]
    },
    {
      "cell_type": "markdown",
      "metadata": {
        "id": "2b08sAdJB03b",
        "colab_type": "text"
      },
      "source": [
        "Se Elimina el Encabezado:"
      ]
    },
    {
      "cell_type": "code",
      "metadata": {
        "id": "lfvs2BYlB4tZ",
        "colab_type": "code",
        "colab": {
          "base_uri": "https://localhost:8080/",
          "height": 102
        },
        "outputId": "073d2ebd-1283-4b07-b651-f238c8a26e97"
      },
      "source": [
        "header = suicidesRDD.first()\n",
        "datalines = suicidesRDD.filter(lambda x : x != header)\n",
        "#suicidesRDD.drop(' gdp_for_year ($) ').collect()\n",
        "#print(suicidesRDD.collect())\n",
        "#datalines = suicidesRDD.drop('gdp_for_year ($)').collect()\n",
        "#datalines[9].dataType = IntegerType()\n",
        "#suicidesRDD['gdp_for_year ($)'].dataType = IntegerType()\n",
        "\n",
        "\n",
        "datalines.count()\n",
        "datalines.take(5)"
      ],
      "execution_count": 25,
      "outputs": [
        {
          "output_type": "execute_result",
          "data": {
            "text/plain": [
              "['Albania,1987,male,15-24 years,21,312900,6.71,Albania1987,,796,Generation X',\n",
              " 'Albania,1987,male,35-54 years,16,308000,5.19,Albania1987,,796,Silent',\n",
              " 'Albania,1987,female,15-24 years,14,289700,4.83,Albania1987,,796,Generation X',\n",
              " 'Albania,1987,male,75+ years,1,21800,4.59,Albania1987,,796,G.I. Generation',\n",
              " 'Albania,1987,male,25-34 years,9,274300,3.28,Albania1987,,796,Boomers']"
            ]
          },
          "metadata": {
            "tags": []
          },
          "execution_count": 25
        }
      ]
    },
    {
      "cell_type": "markdown",
      "metadata": {
        "id": "4llh9rL4I-vk",
        "colab_type": "text"
      },
      "source": [
        "Se define funcion para limpieza de cada linea del RDD"
      ]
    },
    {
      "cell_type": "code",
      "metadata": {
        "id": "EnEpcf0pI9uv",
        "colab_type": "code",
        "colab": {
          "base_uri": "https://localhost:8080/",
          "height": 8517
        },
        "outputId": "81541b4e-103f-40e2-8f16-f7e4439fd2e8"
      },
      "source": [
        "def cleanseRDD(inputStr) :\n",
        "    if isinstance(inputStr, int) :\n",
        "        return inputStr\n",
        "      \n",
        "    #Eliminar las comillas\n",
        "    #repStr = inputStr.replace('\\\"','-')\n",
        "      \n",
        "    attList=inputStr.split(\",\")\n",
        "    #\n",
        "    if attList[2] == \"male\" :\n",
        "         attList[2]=\"1\"\n",
        "    elif attList[2] == \"female\" :\n",
        "         attList[2]=\"0\"\n",
        "        \n",
        "    if attList[3] == \"5-14 years\":\n",
        "         attList[3] = \"0\"\n",
        "    elif attList[3] == \"15-24 years\" :\n",
        "         attList[3]=\"1\"\n",
        "    elif attList[3] == \"25-34 years\" :\n",
        "         attList[3]=\"2\"\n",
        "    elif attList[3] == \"35-54 years\" :\n",
        "         attList[3]=\"3\"\n",
        "    elif attList[3] == \"55-74 years\" :\n",
        "         attList[3]=\"4\"\n",
        "    elif attList[3] == \"75+ years\" :\n",
        "         attList[3]=\"5\"\n",
        "        \n",
        "    if attList[8] == \"\":\n",
        "         attList[8] = \"0\"\n",
        "        \n",
        "    if attList[10] == \"Boomers\":\n",
        "         attList[10] = \"0\"\n",
        "    elif attList[10] == \"G.I. Generation\" :\n",
        "         attList[10]=\"1\"\n",
        "    elif attList[10] == \"Generation X\" :\n",
        "         attList[10]=\"2\"\n",
        "    elif attList[10] == \"Generation Z\" :\n",
        "         attList[10]=\"3\"\n",
        "    elif attList[10] == \"Millenials\" :\n",
        "         attList[10]=\"4\"\n",
        "    elif attList[10] == \"Silent\" :\n",
        "         attList[10]=\"5\"\n",
        "        \n",
        "        \n",
        "    #attList[9].dataType = IntegerType()\n",
        "  \n",
        "    #Convert Drive to uppercase\n",
        "    #attList[5] = attList[5].upper()\n",
        "    return \",\".join(attList)\n",
        "  \n",
        "cleanedData = datalines.map(cleanseRDD)\n",
        "for line in cleanedData.take(500):\n",
        "  print(line)"
      ],
      "execution_count": 30,
      "outputs": [
        {
          "output_type": "stream",
          "text": [
            "Albania,1987,1,1,21,312900,6.71,Albania1987,0,796,2\n",
            "Albania,1987,1,3,16,308000,5.19,Albania1987,0,796,5\n",
            "Albania,1987,0,1,14,289700,4.83,Albania1987,0,796,2\n",
            "Albania,1987,1,5,1,21800,4.59,Albania1987,0,796,1\n",
            "Albania,1987,1,2,9,274300,3.28,Albania1987,0,796,0\n",
            "Albania,1987,0,5,1,35600,2.81,Albania1987,0,796,1\n",
            "Albania,1987,0,3,6,278800,2.15,Albania1987,0,796,5\n",
            "Albania,1987,0,2,4,257200,1.56,Albania1987,0,796,0\n",
            "Albania,1987,1,4,1,137500,0.73,Albania1987,0,796,1\n",
            "Albania,1987,0,0,0,311000,0,Albania1987,0,796,2\n",
            "Albania,1987,0,4,0,144600,0,Albania1987,0,796,1\n",
            "Albania,1987,1,0,0,338200,0,Albania1987,0,796,2\n",
            "Albania,1988,0,5,2,36400,5.49,Albania1988,0,769,1\n",
            "Albania,1988,1,1,17,319200,5.33,Albania1988,0,769,2\n",
            "Albania,1988,1,5,1,22300,4.48,Albania1988,0,769,1\n",
            "Albania,1988,1,3,14,314100,4.46,Albania1988,0,769,5\n",
            "Albania,1988,1,4,4,140200,2.85,Albania1988,0,769,1\n",
            "Albania,1988,0,1,8,295600,2.71,Albania1988,0,769,2\n",
            "Albania,1988,0,4,3,147500,2.03,Albania1988,0,769,1\n",
            "Albania,1988,0,2,5,262400,1.91,Albania1988,0,769,0\n",
            "Albania,1988,1,2,5,279900,1.79,Albania1988,0,769,0\n",
            "Albania,1988,0,3,4,284500,1.41,Albania1988,0,769,5\n",
            "Albania,1988,0,0,0,317200,0,Albania1988,0,769,2\n",
            "Albania,1988,1,0,0,345000,0,Albania1988,0,769,2\n",
            "Albania,1989,1,5,2,22500,8.89,Albania1989,0,833,1\n",
            "Albania,1989,1,2,18,283600,6.35,Albania1989,0,833,0\n",
            "Albania,1989,1,3,15,318400,4.71,Albania1989,0,833,5\n",
            "Albania,1989,1,4,6,142100,4.22,Albania1989,0,833,1\n",
            "Albania,1989,1,1,12,323500,3.71,Albania1989,0,833,2\n",
            "Albania,1989,0,3,7,288600,2.43,Albania1989,0,833,5\n",
            "Albania,1989,0,1,5,299900,1.67,Albania1989,0,833,2\n",
            "Albania,1989,0,2,2,266300,0.75,Albania1989,0,833,0\n",
            "Albania,1989,0,4,1,149600,0.67,Albania1989,0,833,1\n",
            "Albania,1989,0,0,0,321900,0,Albania1989,0,833,2\n",
            "Albania,1989,0,5,0,37000,0,Albania1989,0,833,1\n",
            "Albania,1989,1,0,0,349700,0,Albania1989,0,833,2\n",
            "Albania,1992,1,3,12,343800,3.49,Albania1992,0,251,0\n",
            "Albania,1992,1,1,9,263700,3.41,Albania1992,0,251,2\n",
            "Albania,1992,1,4,5,159500,3.13,Albania1992,0,251,5\n",
            "Albania,1992,1,2,7,245500,2.85,Albania1992,0,251,0\n",
            "Albania,1992,0,1,7,292400,2.39,Albania1992,0,251,2\n",
            "Albania,1992,0,2,4,267400,1.5,Albania1992,0,251,0\n",
            "Albania,1992,0,3,2,323100,0.62,Albania1992,0,251,0\n",
            "Albania,1992,0,4,1,164900,0.61,Albania1992,0,251,5\n",
            "Albania,1992,0,0,0,336700,0,Albania1992,0,251,4\n",
            "Albania,1992,0,5,0,38700,0,Albania1992,0,251,1\n",
            "Albania,1992,1,0,0,362900,0,Albania1992,0,251,4\n",
            "Albania,1992,1,5,0,23900,0,Albania1992,0,251,1\n",
            "Albania,1993,1,1,18,243300,7.4,Albania1993,0,437,2\n",
            "Albania,1993,1,4,7,165000,4.24,Albania1993,0,437,5\n",
            "Albania,1993,1,5,1,24200,4.13,Albania1993,0,437,1\n",
            "Albania,1993,1,2,9,230100,3.91,Albania1993,0,437,0\n",
            "Albania,1993,0,1,10,285300,3.51,Albania1993,0,437,2\n",
            "Albania,1993,1,3,10,350300,2.85,Albania1993,0,437,0\n",
            "Albania,1993,0,2,7,261800,2.67,Albania1993,0,437,0\n",
            "Albania,1993,0,3,7,331200,2.11,Albania1993,0,437,0\n",
            "Albania,1993,0,4,2,169500,1.18,Albania1993,0,437,5\n",
            "Albania,1993,0,0,1,340300,0.29,Albania1993,0,437,4\n",
            "Albania,1993,1,0,1,367000,0.27,Albania1993,0,437,4\n",
            "Albania,1993,0,5,0,39300,0,Albania1993,0,437,1\n",
            "Albania,1994,1,5,2,24600,8.13,Albania1994,0,697,1\n",
            "Albania,1994,1,4,11,171400,6.42,Albania1994,0,697,5\n",
            "Albania,1994,0,5,2,39900,5.01,Albania1994,0,697,1\n",
            "Albania,1994,1,2,6,231400,2.59,Albania1994,0,697,0\n",
            "Albania,1994,1,3,9,362800,2.48,Albania1994,0,697,0\n",
            "Albania,1994,1,1,6,242200,2.48,Albania1994,0,697,2\n",
            "Albania,1994,0,1,6,282600,2.12,Albania1994,0,697,2\n",
            "Albania,1994,0,2,4,261100,1.53,Albania1994,0,697,0\n",
            "Albania,1994,0,3,2,342500,0.58,Albania1994,0,697,0\n",
            "Albania,1994,0,4,1,174600,0.57,Albania1994,0,697,5\n",
            "Albania,1994,1,0,1,371800,0.27,Albania1994,0,697,4\n",
            "Albania,1994,0,0,0,344400,0,Albania1994,0,697,4\n",
            "Albania,1995,1,2,13,232900,5.58,Albania1995,0.619,835,2\n",
            "Albania,1995,1,4,9,178000,5.06,Albania1995,0.619,835,5\n",
            "Albania,1995,0,5,2,40800,4.9,Albania1995,0.619,835,1\n",
            "Albania,1995,0,1,13,283500,4.59,Albania1995,0.619,835,2\n",
            "Albania,1995,1,1,11,241200,4.56,Albania1995,0.619,835,2\n",
            "Albania,1995,1,5,1,25100,3.98,Albania1995,0.619,835,1\n",
            "Albania,1995,1,3,14,375900,3.72,Albania1995,0.619,835,0\n",
            "Albania,1995,0,2,7,264000,2.65,Albania1995,0.619,835,2\n",
            "Albania,1995,0,3,8,356400,2.24,Albania1995,0.619,835,0\n",
            "Albania,1995,1,0,6,376500,1.59,Albania1995,0.619,835,4\n",
            "Albania,1995,0,4,2,180400,1.11,Albania1995,0.619,835,5\n",
            "Albania,1995,0,0,2,348700,0.57,Albania1995,0.619,835,4\n",
            "Albania,1996,1,5,2,25400,7.87,Albania1996,0,1127,1\n",
            "Albania,1996,1,1,17,243600,6.98,Albania1996,0,1127,2\n",
            "Albania,1996,1,2,14,235300,5.95,Albania1996,0,1127,2\n",
            "Albania,1996,0,1,16,287700,5.56,Albania1996,0,1127,2\n",
            "Albania,1996,0,5,2,41200,4.85,Albania1996,0,1127,1\n",
            "Albania,1996,0,2,10,267900,3.73,Albania1996,0,1127,2\n",
            "Albania,1996,1,3,12,379600,3.16,Albania1996,0,1127,0\n",
            "Albania,1996,0,3,9,362000,2.49,Albania1996,0,1127,0\n",
            "Albania,1996,1,4,3,179900,1.67,Albania1996,0,1127,5\n",
            "Albania,1996,0,4,1,183100,0.55,Albania1996,0,1127,5\n",
            "Albania,1996,1,0,2,380400,0.53,Albania1996,0,1127,4\n",
            "Albania,1996,0,0,1,354100,0.28,Albania1996,0,1127,4\n",
            "Albania,1997,1,2,36,236000,15.25,Albania1997,0,793,2\n",
            "Albania,1997,1,1,33,244400,13.5,Albania1997,0,793,2\n",
            "Albania,1997,1,5,3,25400,11.81,Albania1997,0,793,1\n",
            "Albania,1997,1,3,30,380800,7.88,Albania1997,0,793,0\n",
            "Albania,1997,0,1,21,294000,7.14,Albania1997,0,793,2\n",
            "Albania,1997,1,4,12,180300,6.66,Albania1997,0,793,5\n",
            "Albania,1997,0,2,16,273900,5.84,Albania1997,0,793,2\n",
            "Albania,1997,0,5,2,42100,4.75,Albania1997,0,793,1\n",
            "Albania,1997,0,3,7,370100,1.89,Albania1997,0,793,0\n",
            "Albania,1997,0,0,6,361800,1.66,Albania1997,0,793,4\n",
            "Albania,1997,1,0,4,381500,1.05,Albania1997,0,793,4\n",
            "Albania,1997,0,4,0,187000,0,Albania1997,0,793,5\n",
            "Albania,1998,1,5,3,25800,11.63,Albania1998,0,899,1\n",
            "Albania,1998,1,1,27,248800,10.85,Albania1998,0,899,2\n",
            "Albania,1998,0,1,32,295600,10.83,Albania1998,0,899,2\n",
            "Albania,1998,1,2,26,240400,10.82,Albania1998,0,899,2\n",
            "Albania,1998,1,3,29,388200,7.47,Albania1998,0,899,0\n",
            "Albania,1998,1,4,9,183800,4.9,Albania1998,0,899,5\n",
            "Albania,1998,0,2,10,275300,3.63,Albania1998,0,899,2\n",
            "Albania,1998,0,4,6,188200,3.19,Albania1998,0,899,5\n",
            "Albania,1998,0,3,9,372100,2.42,Albania1998,0,899,0\n",
            "Albania,1998,1,0,2,388400,0.51,Albania1998,0,899,4\n",
            "Albania,1998,0,0,1,363800,0.27,Albania1998,0,899,4\n",
            "Albania,1998,0,5,0,42300,0,Albania1998,0,899,1\n",
            "Albania,1999,1,5,3,25900,11.58,Albania1999,0,1127,1\n",
            "Albania,1999,1,1,24,250600,9.58,Albania1999,0,1127,2\n",
            "Albania,1999,0,5,4,42400,9.43,Albania1999,0,1127,1\n",
            "Albania,1999,1,3,31,391100,7.93,Albania1999,0,1127,0\n",
            "Albania,1999,1,2,19,242300,7.84,Albania1999,0,1127,2\n",
            "Albania,1999,1,4,14,185200,7.56,Albania1999,0,1127,5\n",
            "Albania,1999,0,1,19,296800,6.4,Albania1999,0,1127,2\n",
            "Albania,1999,0,2,13,276500,4.7,Albania1999,0,1127,2\n",
            "Albania,1999,0,4,6,188800,3.18,Albania1999,0,1127,5\n",
            "Albania,1999,0,3,5,373600,1.34,Albania1999,0,1127,0\n",
            "Albania,1999,0,0,1,365200,0.27,Albania1999,0,1127,4\n",
            "Albania,1999,1,0,0,391300,0,Albania1999,0,1127,4\n",
            "Albania,2000,1,2,17,232000,7.33,Albania2000,0.656,1299,2\n",
            "Albania,2000,1,4,10,177400,5.64,Albania2000,0.656,1299,5\n",
            "Albania,2000,0,5,2,37800,5.29,Albania2000,0.656,1299,1\n",
            "Albania,2000,1,5,1,24900,4.02,Albania2000,0.656,1299,1\n",
            "Albania,2000,0,1,6,263900,2.27,Albania2000,0.656,1299,2\n",
            "Albania,2000,1,1,5,240000,2.08,Albania2000,0.656,1299,2\n",
            "Albania,2000,0,3,5,332200,1.51,Albania2000,0.656,1299,0\n",
            "Albania,2000,0,2,3,245800,1.22,Albania2000,0.656,1299,2\n",
            "Albania,2000,1,3,4,374700,1.07,Albania2000,0.656,1299,0\n",
            "Albania,2000,1,0,1,374900,0.27,Albania2000,0.656,1299,4\n",
            "Albania,2000,0,0,0,324700,0,Albania2000,0.656,1299,4\n",
            "Albania,2000,0,4,0,168000,0,Albania2000,0.656,1299,5\n",
            "Albania,2001,1,2,22,206484,10.65,Albania2001,0,1451,2\n",
            "Albania,2001,1,3,34,378826,8.98,Albania2001,0,1451,0\n",
            "Albania,2001,1,4,11,196670,5.59,Albania2001,0,1451,5\n",
            "Albania,2001,0,5,2,47254,4.23,Albania2001,0,1451,5\n",
            "Albania,2001,1,1,10,256039,3.91,Albania2001,0,1451,4\n",
            "Albania,2001,0,1,9,271359,3.32,Albania2001,0,1451,4\n",
            "Albania,2001,0,3,12,370191,3.24,Albania2001,0,1451,0\n",
            "Albania,2001,1,5,1,31044,3.22,Albania2001,0,1451,5\n",
            "Albania,2001,0,4,6,189799,3.16,Albania2001,0,1451,5\n",
            "Albania,2001,1,0,6,321556,1.87,Albania2001,0,1451,4\n",
            "Albania,2001,0,2,4,222771,1.8,Albania2001,0,1451,2\n",
            "Albania,2001,0,0,2,307356,0.65,Albania2001,0,1451,4\n",
            "Albania,2002,1,5,4,31007,12.9,Albania2002,0,1573,5\n",
            "Albania,2002,1,2,23,206286,11.15,Albania2002,0,1573,2\n",
            "Albania,2002,1,3,35,382139,9.16,Albania2002,0,1573,0\n",
            "Albania,2002,1,4,13,198130,6.56,Albania2002,0,1573,5\n",
            "Albania,2002,1,1,15,263067,5.7,Albania2002,0,1573,4\n",
            "Albania,2002,0,1,14,275970,5.07,Albania2002,0,1573,4\n",
            "Albania,2002,0,3,15,375113,4,Albania2002,0,1573,0\n",
            "Albania,2002,0,2,7,223685,3.13,Albania2002,0,1573,2\n",
            "Albania,2002,0,5,1,47407,2.11,Albania2002,0,1573,5\n",
            "Albania,2002,0,4,4,191712,2.09,Albania2002,0,1573,5\n",
            "Albania,2002,0,0,1,304850,0.33,Albania2002,0,1573,4\n",
            "Albania,2002,1,0,1,319473,0.31,Albania2002,0,1573,4\n",
            "Albania,2003,0,5,6,49088,12.22,Albania2003,0,2021,5\n",
            "Albania,2003,1,4,16,201520,7.94,Albania2003,0,2021,5\n",
            "Albania,2003,1,3,28,386196,7.25,Albania2003,0,2021,0\n",
            "Albania,2003,1,1,15,273235,5.49,Albania2003,0,2021,4\n",
            "Albania,2003,0,1,14,283709,4.93,Albania2003,0,2021,4\n",
            "Albania,2003,0,4,9,195699,4.6,Albania2003,0,2021,5\n",
            "Albania,2003,1,2,9,205433,4.38,Albania2003,0,2021,2\n",
            "Albania,2003,0,2,9,222941,4.04,Albania2003,0,2021,2\n",
            "Albania,2003,0,3,13,381760,3.41,Albania2003,0,2021,0\n",
            "Albania,2003,1,5,1,32667,3.06,Albania2003,0,2021,5\n",
            "Albania,2003,1,0,4,313204,1.28,Albania2003,0,2021,4\n",
            "Albania,2003,0,0,0,298477,0,Albania2003,0,2021,4\n",
            "Albania,2004,1,5,4,35526,11.26,Albania2004,0,2544,5\n",
            "Albania,2004,1,3,39,391767,9.95,Albania2004,0,2544,0\n",
            "Albania,2004,1,2,16,203938,7.85,Albania2004,0,2544,2\n",
            "Albania,2004,0,1,20,292268,6.84,Albania2004,0,2544,4\n",
            "Albania,2004,1,1,19,286768,6.63,Albania2004,0,2544,4\n",
            "Albania,2004,0,5,3,50970,5.89,Albania2004,0,2544,5\n",
            "Albania,2004,0,2,11,222389,4.95,Albania2004,0,2544,2\n",
            "Albania,2004,1,4,10,207202,4.83,Albania2004,0,2544,5\n",
            "Albania,2004,0,3,17,391436,4.34,Albania2004,0,2544,0\n",
            "Albania,2004,0,4,3,203841,1.47,Albania2004,0,2544,5\n",
            "Albania,2004,0,0,3,286705,1.05,Albania2004,0,2544,4\n",
            "Albania,2004,1,0,1,302181,0.33,Albania2004,0,2544,4\n",
            "Albania,2005,0,1,0,281922,0,Albania2005,0.695,2931,4\n",
            "Albania,2005,0,2,0,190745,0,Albania2005,0.695,2931,2\n",
            "Albania,2005,0,3,0,386513,0,Albania2005,0.695,2931,0\n",
            "Albania,2005,0,0,0,276559,0,Albania2005,0.695,2931,4\n",
            "Albania,2005,0,4,0,210998,0,Albania2005,0.695,2931,5\n",
            "Albania,2005,0,5,0,53191,0,Albania2005,0.695,2931,5\n",
            "Albania,2005,1,1,0,281675,0,Albania2005,0.695,2931,4\n",
            "Albania,2005,1,2,0,177519,0,Albania2005,0.695,2931,2\n",
            "Albania,2005,1,3,0,380242,0,Albania2005,0.695,2931,0\n",
            "Albania,2005,1,0,0,291367,0,Albania2005,0.695,2931,4\n",
            "Albania,2005,1,4,0,214118,0,Albania2005,0.695,2931,5\n",
            "Albania,2005,1,5,0,38471,0,Albania2005,0.695,2931,5\n",
            "Albania,2006,0,1,0,283138,0,Albania2006,0,3235,4\n",
            "Albania,2006,0,2,0,186391,0,Albania2006,0,3235,2\n",
            "Albania,2006,0,3,0,388746,0,Albania2006,0,3235,0\n",
            "Albania,2006,0,0,0,267316,0,Albania2006,0,3235,4\n",
            "Albania,2006,0,4,0,215907,0,Albania2006,0,3235,5\n",
            "Albania,2006,0,5,0,56011,0,Albania2006,0,3235,5\n",
            "Albania,2006,1,1,0,286679,0,Albania2006,0,3235,4\n",
            "Albania,2006,1,2,0,174092,0,Albania2006,0,3235,2\n",
            "Albania,2006,1,3,0,379076,0,Albania2006,0,3235,0\n",
            "Albania,2006,1,0,0,282678,0,Albania2006,0,3235,4\n",
            "Albania,2006,1,4,0,219360,0,Albania2006,0,3235,5\n",
            "Albania,2006,1,5,0,40782,0,Albania2006,0,3235,5\n",
            "Albania,2007,1,5,8,42366,18.88,Albania2007,0,3863,5\n",
            "Albania,2007,1,3,29,378626,7.66,Albania2007,0,3863,0\n",
            "Albania,2007,1,4,14,224160,6.25,Albania2007,0,3863,5\n",
            "Albania,2007,0,5,3,57404,5.23,Albania2007,0,3863,5\n",
            "Albania,2007,1,2,9,172494,5.22,Albania2007,0,3863,2\n",
            "Albania,2007,0,1,13,281080,4.63,Albania2007,0,3863,4\n",
            "Albania,2007,1,1,13,288349,4.51,Albania2007,0,3863,4\n",
            "Albania,2007,0,2,8,183629,4.36,Albania2007,0,3863,2\n",
            "Albania,2007,0,4,9,221120,4.07,Albania2007,0,3863,5\n",
            "Albania,2007,0,3,14,391811,3.57,Albania2007,0,3863,0\n",
            "Albania,2007,1,0,4,272497,1.47,Albania2007,0,3863,3\n",
            "Albania,2007,0,0,0,256808,0,Albania2007,0,3863,3\n",
            "Albania,2008,1,2,21,172855,12.15,Albania2008,0,4672,2\n",
            "Albania,2008,1,3,37,377119,9.81,Albania2008,0,4672,0\n",
            "Albania,2008,1,4,21,228672,9.18,Albania2008,0,4672,5\n",
            "Albania,2008,0,5,5,59369,8.42,Albania2008,0,4672,5\n",
            "Albania,2008,0,1,20,276073,7.24,Albania2008,0,4672,4\n",
            "Albania,2008,0,2,9,182663,4.93,Albania2008,0,4672,2\n",
            "Albania,2008,0,3,19,393832,4.82,Albania2008,0,4672,0\n",
            "Albania,2008,1,5,2,44574,4.49,Albania2008,0,4672,5\n",
            "Albania,2008,1,1,11,286702,3.84,Albania2008,0,4672,4\n",
            "Albania,2008,0,4,7,226448,3.09,Albania2008,0,4672,5\n",
            "Albania,2008,1,0,7,262464,2.67,Albania2008,0,4672,3\n",
            "Albania,2008,0,0,1,246288,0.41,Albania2008,0,4672,3\n",
            "Albania,2009,0,1,0,270003,0,Albania2009,0,4387,4\n",
            "Albania,2009,0,2,0,182712,0,Albania2009,0,4387,2\n",
            "Albania,2009,0,3,0,394286,0,Albania2009,0,4387,0\n",
            "Albania,2009,0,0,0,236174,0,Albania2009,0,4387,3\n",
            "Albania,2009,0,4,0,233302,0,Albania2009,0,4387,5\n",
            "Albania,2009,0,5,0,61582,0,Albania2009,0,4387,5\n",
            "Albania,2009,1,1,0,283448,0,Albania2009,0,4387,4\n",
            "Albania,2009,1,2,0,174955,0,Albania2009,0,4387,2\n",
            "Albania,2009,1,3,0,374365,0,Albania2009,0,4387,0\n",
            "Albania,2009,1,0,0,253007,0,Albania2009,0,4387,3\n",
            "Albania,2009,1,4,0,234570,0,Albania2009,0,4387,5\n",
            "Albania,2009,1,5,0,47331,0,Albania2009,0,4387,5\n",
            "Albania,2010,1,4,20,241852,8.27,Albania2010,0.722,4359,5\n",
            "Albania,2010,1,3,20,371611,5.38,Albania2010,0.722,4359,2\n",
            "Albania,2010,1,2,9,179720,5.01,Albania2010,0.722,4359,2\n",
            "Albania,2010,1,5,2,50767,3.94,Albania2010,0.722,4359,5\n",
            "Albania,2010,1,1,10,279508,3.58,Albania2010,0.722,4359,4\n",
            "Albania,2010,0,2,6,183579,3.27,Albania2010,0.722,4359,2\n",
            "Albania,2010,0,5,2,64415,3.1,Albania2010,0.722,4359,5\n",
            "Albania,2010,0,3,12,394593,3.04,Albania2010,0.722,4359,2\n",
            "Albania,2010,0,4,7,241491,2.9,Albania2010,0.722,4359,5\n",
            "Albania,2010,0,1,6,263581,2.28,Albania2010,0.722,4359,4\n",
            "Albania,2010,0,0,2,223969,0.89,Albania2010,0.722,4359,3\n",
            "Albania,2010,1,0,0,240939,0,Albania2010,0.722,4359,3\n",
            "Antigua and Barbuda,1985,0,1,0,7709,0,Antigua and Barbuda1985,0,3850,2\n",
            "Antigua and Barbuda,1985,0,2,0,6344,0,Antigua and Barbuda1985,0,3850,0\n",
            "Antigua and Barbuda,1985,0,3,0,6173,0,Antigua and Barbuda1985,0,3850,5\n",
            "Antigua and Barbuda,1985,0,0,0,7339,0,Antigua and Barbuda1985,0,3850,2\n",
            "Antigua and Barbuda,1985,0,4,0,3778,0,Antigua and Barbuda1985,0,3850,1\n",
            "Antigua and Barbuda,1985,0,5,0,949,0,Antigua and Barbuda1985,0,3850,1\n",
            "Antigua and Barbuda,1985,1,1,0,7667,0,Antigua and Barbuda1985,0,3850,2\n",
            "Antigua and Barbuda,1985,1,2,0,6194,0,Antigua and Barbuda1985,0,3850,0\n",
            "Antigua and Barbuda,1985,1,3,0,5970,0,Antigua and Barbuda1985,0,3850,5\n",
            "Antigua and Barbuda,1985,1,0,0,7304,0,Antigua and Barbuda1985,0,3850,2\n",
            "Antigua and Barbuda,1985,1,4,0,2723,0,Antigua and Barbuda1985,0,3850,1\n",
            "Antigua and Barbuda,1985,1,5,0,424,0,Antigua and Barbuda1985,0,3850,1\n",
            "Antigua and Barbuda,1986,0,1,0,7668,0,Antigua and Barbuda1986,0,4740,2\n",
            "Antigua and Barbuda,1986,0,2,0,6209,0,Antigua and Barbuda1986,0,4740,0\n",
            "Antigua and Barbuda,1986,0,3,0,6101,0,Antigua and Barbuda1986,0,4740,5\n",
            "Antigua and Barbuda,1986,0,0,0,6907,0,Antigua and Barbuda1986,0,4740,2\n",
            "Antigua and Barbuda,1986,0,4,0,3764,0,Antigua and Barbuda1986,0,4740,1\n",
            "Antigua and Barbuda,1986,0,5,0,1014,0,Antigua and Barbuda1986,0,4740,1\n",
            "Antigua and Barbuda,1986,1,1,0,7563,0,Antigua and Barbuda1986,0,4740,2\n",
            "Antigua and Barbuda,1986,1,2,0,6023,0,Antigua and Barbuda1986,0,4740,0\n",
            "Antigua and Barbuda,1986,1,3,0,5947,0,Antigua and Barbuda1986,0,4740,5\n",
            "Antigua and Barbuda,1986,1,0,0,6827,0,Antigua and Barbuda1986,0,4740,2\n",
            "Antigua and Barbuda,1986,1,4,0,2771,0,Antigua and Barbuda1986,0,4740,1\n",
            "Antigua and Barbuda,1986,1,5,0,476,0,Antigua and Barbuda1986,0,4740,1\n",
            "Antigua and Barbuda,1987,0,1,0,7583,0,Antigua and Barbuda1987,0,5595,2\n",
            "Antigua and Barbuda,1987,0,2,0,6101,0,Antigua and Barbuda1987,0,5595,0\n",
            "Antigua and Barbuda,1987,0,3,0,6059,0,Antigua and Barbuda1987,0,5595,5\n",
            "Antigua and Barbuda,1987,0,0,0,6623,0,Antigua and Barbuda1987,0,5595,2\n",
            "Antigua and Barbuda,1987,0,4,0,3738,0,Antigua and Barbuda1987,0,5595,1\n",
            "Antigua and Barbuda,1987,0,5,0,1081,0,Antigua and Barbuda1987,0,5595,1\n",
            "Antigua and Barbuda,1987,1,1,0,7421,0,Antigua and Barbuda1987,0,5595,2\n",
            "Antigua and Barbuda,1987,1,2,0,5893,0,Antigua and Barbuda1987,0,5595,0\n",
            "Antigua and Barbuda,1987,1,3,0,5927,0,Antigua and Barbuda1987,0,5595,5\n",
            "Antigua and Barbuda,1987,1,0,0,6499,0,Antigua and Barbuda1987,0,5595,2\n",
            "Antigua and Barbuda,1987,1,4,0,2798,0,Antigua and Barbuda1987,0,5595,1\n",
            "Antigua and Barbuda,1987,1,5,0,538,0,Antigua and Barbuda1987,0,5595,1\n",
            "Antigua and Barbuda,1988,0,1,0,7413,0,Antigua and Barbuda1988,0,6693,2\n",
            "Antigua and Barbuda,1988,0,2,0,6041,0,Antigua and Barbuda1988,0,6693,0\n",
            "Antigua and Barbuda,1988,0,3,0,6021,0,Antigua and Barbuda1988,0,6693,5\n",
            "Antigua and Barbuda,1988,0,0,0,6527,0,Antigua and Barbuda1988,0,6693,2\n",
            "Antigua and Barbuda,1988,0,4,0,3708,0,Antigua and Barbuda1988,0,6693,1\n",
            "Antigua and Barbuda,1988,0,5,0,1141,0,Antigua and Barbuda1988,0,6693,1\n",
            "Antigua and Barbuda,1988,1,1,0,7209,0,Antigua and Barbuda1988,0,6693,2\n",
            "Antigua and Barbuda,1988,1,2,0,5826,0,Antigua and Barbuda1988,0,6693,0\n",
            "Antigua and Barbuda,1988,1,3,0,5907,0,Antigua and Barbuda1988,0,6693,5\n",
            "Antigua and Barbuda,1988,1,0,0,6355,0,Antigua and Barbuda1988,0,6693,2\n",
            "Antigua and Barbuda,1988,1,4,0,2813,0,Antigua and Barbuda1988,0,6693,1\n",
            "Antigua and Barbuda,1988,1,5,0,603,0,Antigua and Barbuda1988,0,6693,1\n",
            "Antigua and Barbuda,1989,0,1,0,7152,0,Antigua and Barbuda1989,0,7407,2\n",
            "Antigua and Barbuda,1989,0,2,0,6059,0,Antigua and Barbuda1989,0,7407,0\n",
            "Antigua and Barbuda,1989,0,3,0,5969,0,Antigua and Barbuda1989,0,7407,5\n",
            "Antigua and Barbuda,1989,0,0,0,6621,0,Antigua and Barbuda1989,0,7407,2\n",
            "Antigua and Barbuda,1989,0,4,0,3696,0,Antigua and Barbuda1989,0,7407,1\n",
            "Antigua and Barbuda,1989,0,5,0,1195,0,Antigua and Barbuda1989,0,7407,1\n",
            "Antigua and Barbuda,1989,1,1,0,6927,0,Antigua and Barbuda1989,0,7407,2\n",
            "Antigua and Barbuda,1989,1,2,0,5835,0,Antigua and Barbuda1989,0,7407,0\n",
            "Antigua and Barbuda,1989,1,3,0,5862,0,Antigua and Barbuda1989,0,7407,5\n",
            "Antigua and Barbuda,1989,1,0,0,6403,0,Antigua and Barbuda1989,0,7407,2\n",
            "Antigua and Barbuda,1989,1,4,0,2843,0,Antigua and Barbuda1989,0,7407,1\n",
            "Antigua and Barbuda,1989,1,5,0,676,0,Antigua and Barbuda1989,0,7407,1\n",
            "Antigua and Barbuda,1990,1,3,1,5799,17.24,Antigua and Barbuda1990,0,7744,5\n",
            "Antigua and Barbuda,1990,0,1,0,6827,0,Antigua and Barbuda1990,0,7744,2\n",
            "Antigua and Barbuda,1990,0,2,0,6172,0,Antigua and Barbuda1990,0,7744,0\n",
            "Antigua and Barbuda,1990,0,3,0,5895,0,Antigua and Barbuda1990,0,7744,5\n",
            "Antigua and Barbuda,1990,0,0,0,6877,0,Antigua and Barbuda1990,0,7744,2\n",
            "Antigua and Barbuda,1990,0,4,0,3706,0,Antigua and Barbuda1990,0,7744,1\n",
            "Antigua and Barbuda,1990,0,5,0,1252,0,Antigua and Barbuda1990,0,7744,1\n",
            "Antigua and Barbuda,1990,1,1,0,6598,0,Antigua and Barbuda1990,0,7744,2\n",
            "Antigua and Barbuda,1990,1,2,0,5937,0,Antigua and Barbuda1990,0,7744,0\n",
            "Antigua and Barbuda,1990,1,0,0,6611,0,Antigua and Barbuda1990,0,7744,2\n",
            "Antigua and Barbuda,1990,1,4,0,2902,0,Antigua and Barbuda1990,0,7744,1\n",
            "Antigua and Barbuda,1990,1,5,0,758,0,Antigua and Barbuda1990,0,7744,1\n",
            "Antigua and Barbuda,1991,0,1,0,6595,0,Antigua and Barbuda1991,0,7976,2\n",
            "Antigua and Barbuda,1991,0,2,0,6396,0,Antigua and Barbuda1991,0,7976,0\n",
            "Antigua and Barbuda,1991,0,3,0,6198,0,Antigua and Barbuda1991,0,7976,0\n",
            "Antigua and Barbuda,1991,0,0,0,7089,0,Antigua and Barbuda1991,0,7976,4\n",
            "Antigua and Barbuda,1991,0,4,0,3665,0,Antigua and Barbuda1991,0,7976,5\n",
            "Antigua and Barbuda,1991,0,5,0,1293,0,Antigua and Barbuda1991,0,7976,1\n",
            "Antigua and Barbuda,1991,1,1,0,6401,0,Antigua and Barbuda1991,0,7976,2\n",
            "Antigua and Barbuda,1991,1,2,0,6156,0,Antigua and Barbuda1991,0,7976,0\n",
            "Antigua and Barbuda,1991,1,3,0,6122,0,Antigua and Barbuda1991,0,7976,0\n",
            "Antigua and Barbuda,1991,1,0,0,6818,0,Antigua and Barbuda1991,0,7976,4\n",
            "Antigua and Barbuda,1991,1,4,0,2857,0,Antigua and Barbuda1991,0,7976,5\n",
            "Antigua and Barbuda,1991,1,5,0,804,0,Antigua and Barbuda1991,0,7976,1\n",
            "Antigua and Barbuda,1992,0,1,0,6369,0,Antigua and Barbuda1992,0,8087,2\n",
            "Antigua and Barbuda,1992,0,2,0,6650,0,Antigua and Barbuda1992,0,8087,0\n",
            "Antigua and Barbuda,1992,0,3,0,6534,0,Antigua and Barbuda1992,0,8087,0\n",
            "Antigua and Barbuda,1992,0,0,0,7311,0,Antigua and Barbuda1992,0,8087,4\n",
            "Antigua and Barbuda,1992,0,4,0,3648,0,Antigua and Barbuda1992,0,8087,5\n",
            "Antigua and Barbuda,1992,0,5,0,1339,0,Antigua and Barbuda1992,0,8087,1\n",
            "Antigua and Barbuda,1992,1,1,0,6221,0,Antigua and Barbuda1992,0,8087,2\n",
            "Antigua and Barbuda,1992,1,2,0,6409,0,Antigua and Barbuda1992,0,8087,0\n",
            "Antigua and Barbuda,1992,1,3,0,6497,0,Antigua and Barbuda1992,0,8087,0\n",
            "Antigua and Barbuda,1992,1,0,0,7059,0,Antigua and Barbuda1992,0,8087,4\n",
            "Antigua and Barbuda,1992,1,4,0,2851,0,Antigua and Barbuda1992,0,8087,5\n",
            "Antigua and Barbuda,1992,1,5,0,853,0,Antigua and Barbuda1992,0,8087,1\n",
            "Antigua and Barbuda,1993,1,2,1,6668,15,Antigua and Barbuda1993,0,8453,0\n",
            "Antigua and Barbuda,1993,0,1,0,6182,0,Antigua and Barbuda1993,0,8453,2\n",
            "Antigua and Barbuda,1993,0,2,0,6914,0,Antigua and Barbuda1993,0,8453,0\n",
            "Antigua and Barbuda,1993,0,3,0,6917,0,Antigua and Barbuda1993,0,8453,0\n",
            "Antigua and Barbuda,1993,0,0,0,7529,0,Antigua and Barbuda1993,0,8453,4\n",
            "Antigua and Barbuda,1993,0,4,0,3662,0,Antigua and Barbuda1993,0,8453,5\n",
            "Antigua and Barbuda,1993,0,5,0,1386,0,Antigua and Barbuda1993,0,8453,1\n",
            "Antigua and Barbuda,1993,1,1,0,6069,0,Antigua and Barbuda1993,0,8453,2\n",
            "Antigua and Barbuda,1993,1,3,0,6915,0,Antigua and Barbuda1993,0,8453,0\n",
            "Antigua and Barbuda,1993,1,0,0,7298,0,Antigua and Barbuda1993,0,8453,4\n",
            "Antigua and Barbuda,1993,1,4,0,2879,0,Antigua and Barbuda1993,0,8453,5\n",
            "Antigua and Barbuda,1993,1,5,0,896,0,Antigua and Barbuda1993,0,8453,1\n",
            "Antigua and Barbuda,1994,0,1,0,6083,0,Antigua and Barbuda1994,0,9062,2\n",
            "Antigua and Barbuda,1994,0,2,0,7151,0,Antigua and Barbuda1994,0,9062,0\n",
            "Antigua and Barbuda,1994,0,3,0,7357,0,Antigua and Barbuda1994,0,9062,0\n",
            "Antigua and Barbuda,1994,0,0,0,7722,0,Antigua and Barbuda1994,0,9062,4\n",
            "Antigua and Barbuda,1994,0,4,0,3715,0,Antigua and Barbuda1994,0,9062,5\n",
            "Antigua and Barbuda,1994,0,5,0,1437,0,Antigua and Barbuda1994,0,9062,1\n",
            "Antigua and Barbuda,1994,1,1,0,5976,0,Antigua and Barbuda1994,0,9062,2\n",
            "Antigua and Barbuda,1994,1,2,0,6886,0,Antigua and Barbuda1994,0,9062,0\n",
            "Antigua and Barbuda,1994,1,3,0,7359,0,Antigua and Barbuda1994,0,9062,0\n",
            "Antigua and Barbuda,1994,1,0,0,7494,0,Antigua and Barbuda1994,0,9062,4\n",
            "Antigua and Barbuda,1994,1,4,0,2935,0,Antigua and Barbuda1994,0,9062,5\n",
            "Antigua and Barbuda,1994,1,5,0,929,0,Antigua and Barbuda1994,0,9062,1\n",
            "Antigua and Barbuda,1995,0,1,0,6099,0,Antigua and Barbuda1995,0,8636,2\n",
            "Antigua and Barbuda,1995,0,2,0,7333,0,Antigua and Barbuda1995,0,8636,2\n",
            "Antigua and Barbuda,1995,0,3,0,7851,0,Antigua and Barbuda1995,0,8636,0\n",
            "Antigua and Barbuda,1995,0,0,0,7885,0,Antigua and Barbuda1995,0,8636,4\n",
            "Antigua and Barbuda,1995,0,4,0,3808,0,Antigua and Barbuda1995,0,8636,5\n",
            "Antigua and Barbuda,1995,0,5,0,1488,0,Antigua and Barbuda1995,0,8636,1\n",
            "Antigua and Barbuda,1995,1,1,0,5953,0,Antigua and Barbuda1995,0,8636,2\n",
            "Antigua and Barbuda,1995,1,2,0,7023,0,Antigua and Barbuda1995,0,8636,2\n",
            "Antigua and Barbuda,1995,1,3,0,7809,0,Antigua and Barbuda1995,0,8636,0\n",
            "Antigua and Barbuda,1995,1,0,0,7632,0,Antigua and Barbuda1995,0,8636,4\n",
            "Antigua and Barbuda,1995,1,4,0,3021,0,Antigua and Barbuda1995,0,8636,5\n",
            "Antigua and Barbuda,1995,1,5,0,944,0,Antigua and Barbuda1995,0,8636,1\n",
            "Antigua and Barbuda,1998,0,1,0,6529,0,Antigua and Barbuda1998,0,10078,2\n",
            "Antigua and Barbuda,1998,0,2,0,8332,0,Antigua and Barbuda1998,0,10078,2\n",
            "Antigua and Barbuda,1998,0,3,0,9615,0,Antigua and Barbuda1998,0,10078,0\n",
            "Antigua and Barbuda,1998,0,0,0,8183,0,Antigua and Barbuda1998,0,10078,4\n",
            "Antigua and Barbuda,1998,0,4,0,3921,0,Antigua and Barbuda1998,0,10078,5\n",
            "Antigua and Barbuda,1998,0,5,0,1476,0,Antigua and Barbuda1998,0,10078,1\n",
            "Antigua and Barbuda,1998,1,1,0,5916,0,Antigua and Barbuda1998,0,10078,2\n",
            "Antigua and Barbuda,1998,1,2,0,7294,0,Antigua and Barbuda1998,0,10078,2\n",
            "Antigua and Barbuda,1998,1,3,0,9086,0,Antigua and Barbuda1998,0,10078,0\n",
            "Antigua and Barbuda,1998,1,0,0,7706,0,Antigua and Barbuda1998,0,10078,4\n",
            "Antigua and Barbuda,1998,1,4,0,3213,0,Antigua and Barbuda1998,0,10078,5\n",
            "Antigua and Barbuda,1998,1,5,0,954,0,Antigua and Barbuda1998,0,10078,1\n",
            "Antigua and Barbuda,1999,0,1,0,6589,0,Antigua and Barbuda1999,0,10378,2\n",
            "Antigua and Barbuda,1999,0,2,0,8526,0,Antigua and Barbuda1999,0,10378,2\n",
            "Antigua and Barbuda,1999,0,3,0,10311,0,Antigua and Barbuda1999,0,10378,0\n",
            "Antigua and Barbuda,1999,0,0,0,8314,0,Antigua and Barbuda1999,0,10378,4\n",
            "Antigua and Barbuda,1999,0,4,0,3968,0,Antigua and Barbuda1999,0,10378,5\n",
            "Antigua and Barbuda,1999,0,5,0,1451,0,Antigua and Barbuda1999,0,10378,1\n",
            "Antigua and Barbuda,1999,1,1,0,5845,0,Antigua and Barbuda1999,0,10378,2\n",
            "Antigua and Barbuda,1999,1,2,0,7263,0,Antigua and Barbuda1999,0,10378,2\n",
            "Antigua and Barbuda,1999,1,3,0,9537,0,Antigua and Barbuda1999,0,10378,0\n",
            "Antigua and Barbuda,1999,1,0,0,7805,0,Antigua and Barbuda1999,0,10378,4\n",
            "Antigua and Barbuda,1999,1,4,0,3276,0,Antigua and Barbuda1999,0,10378,5\n",
            "Antigua and Barbuda,1999,1,5,0,947,0,Antigua and Barbuda1999,0,10378,1\n",
            "Antigua and Barbuda,2000,1,4,1,3333,30,Antigua and Barbuda2000,0,11021,5\n",
            "Antigua and Barbuda,2000,1,3,1,10033,9.97,Antigua and Barbuda2000,0,11021,0\n",
            "Antigua and Barbuda,2000,0,1,0,6616,0,Antigua and Barbuda2000,0,11021,2\n",
            "Antigua and Barbuda,2000,0,2,0,8595,0,Antigua and Barbuda2000,0,11021,2\n",
            "Antigua and Barbuda,2000,0,3,0,11040,0,Antigua and Barbuda2000,0,11021,0\n",
            "Antigua and Barbuda,2000,0,0,0,8439,0,Antigua and Barbuda2000,0,11021,4\n",
            "Antigua and Barbuda,2000,0,4,0,3986,0,Antigua and Barbuda2000,0,11021,5\n",
            "Antigua and Barbuda,2000,0,5,0,1413,0,Antigua and Barbuda2000,0,11021,1\n",
            "Antigua and Barbuda,2000,1,1,0,5783,0,Antigua and Barbuda2000,0,11021,2\n",
            "Antigua and Barbuda,2000,1,2,0,7177,0,Antigua and Barbuda2000,0,11021,2\n",
            "Antigua and Barbuda,2000,1,0,0,7973,0,Antigua and Barbuda2000,0,11021,4\n",
            "Antigua and Barbuda,2000,1,5,0,938,0,Antigua and Barbuda2000,0,11021,1\n",
            "Antigua and Barbuda,2001,1,3,2,10281,19.45,Antigua and Barbuda2001,0,10468,0\n",
            "Antigua and Barbuda,2001,0,1,0,6902,0,Antigua and Barbuda2001,0,10468,4\n",
            "Antigua and Barbuda,2001,0,2,0,8425,0,Antigua and Barbuda2001,0,10468,2\n",
            "Antigua and Barbuda,2001,0,3,0,11402,0,Antigua and Barbuda2001,0,10468,0\n",
            "Antigua and Barbuda,2001,0,0,0,8428,0,Antigua and Barbuda2001,0,10468,4\n",
            "Antigua and Barbuda,2001,0,4,0,4037,0,Antigua and Barbuda2001,0,10468,5\n",
            "Antigua and Barbuda,2001,0,5,0,1487,0,Antigua and Barbuda2001,0,10468,5\n",
            "Antigua and Barbuda,2001,1,1,0,6084,0,Antigua and Barbuda2001,0,10468,4\n",
            "Antigua and Barbuda,2001,1,2,0,7071,0,Antigua and Barbuda2001,0,10468,2\n",
            "Antigua and Barbuda,2001,1,0,0,7958,0,Antigua and Barbuda2001,0,10468,4\n",
            "Antigua and Barbuda,2001,1,4,0,3442,0,Antigua and Barbuda2001,0,10468,5\n",
            "Antigua and Barbuda,2001,1,5,0,980,0,Antigua and Barbuda2001,0,10468,5\n",
            "Antigua and Barbuda,2002,0,1,0,7196,0,Antigua and Barbuda2002,0,10499,4\n",
            "Antigua and Barbuda,2002,0,2,0,8155,0,Antigua and Barbuda2002,0,10499,2\n",
            "Antigua and Barbuda,2002,0,3,0,11760,0,Antigua and Barbuda2002,0,10499,0\n",
            "Antigua and Barbuda,2002,0,0,0,8408,0,Antigua and Barbuda2002,0,10499,4\n",
            "Antigua and Barbuda,2002,0,4,0,4050,0,Antigua and Barbuda2002,0,10499,5\n",
            "Antigua and Barbuda,2002,0,5,0,1547,0,Antigua and Barbuda2002,0,10499,5\n",
            "Antigua and Barbuda,2002,1,1,0,6416,0,Antigua and Barbuda2002,0,10499,4\n",
            "Antigua and Barbuda,2002,1,2,0,6921,0,Antigua and Barbuda2002,0,10499,2\n",
            "Antigua and Barbuda,2002,1,3,0,10604,0,Antigua and Barbuda2002,0,10499,0\n",
            "Antigua and Barbuda,2002,1,0,0,7980,0,Antigua and Barbuda2002,0,10499,4\n",
            "Antigua and Barbuda,2002,1,4,0,3527,0,Antigua and Barbuda2002,0,10499,5\n",
            "Antigua and Barbuda,2002,1,5,0,1024,0,Antigua and Barbuda2002,0,10499,5\n",
            "Antigua and Barbuda,2003,1,4,1,3594,27.82,Antigua and Barbuda2003,0,10878,5\n",
            "Antigua and Barbuda,2003,0,1,0,7454,0,Antigua and Barbuda2003,0,10878,4\n",
            "Antigua and Barbuda,2003,0,2,0,7831,0,Antigua and Barbuda2003,0,10878,2\n",
            "Antigua and Barbuda,2003,0,3,0,12129,0,Antigua and Barbuda2003,0,10878,0\n",
            "Antigua and Barbuda,2003,0,0,0,8423,0,Antigua and Barbuda2003,0,10878,4\n",
            "Antigua and Barbuda,2003,0,4,0,4054,0,Antigua and Barbuda2003,0,10878,5\n",
            "Antigua and Barbuda,2003,0,5,0,1583,0,Antigua and Barbuda2003,0,10878,5\n",
            "Antigua and Barbuda,2003,1,1,0,6730,0,Antigua and Barbuda2003,0,10878,4\n",
            "Antigua and Barbuda,2003,1,2,0,6734,0,Antigua and Barbuda2003,0,10878,2\n",
            "Antigua and Barbuda,2003,1,3,0,10997,0,Antigua and Barbuda2003,0,10878,0\n",
            "Antigua and Barbuda,2003,1,0,0,8061,0,Antigua and Barbuda2003,0,10878,4\n",
            "Antigua and Barbuda,2003,1,5,0,1068,0,Antigua and Barbuda2003,0,10878,5\n",
            "Antigua and Barbuda,2004,1,4,1,3665,27.29,Antigua and Barbuda2004,0,11535,5\n",
            "Antigua and Barbuda,2004,1,3,1,11406,8.77,Antigua and Barbuda2004,0,11535,0\n",
            "Antigua and Barbuda,2004,0,1,0,7648,0,Antigua and Barbuda2004,0,11535,4\n",
            "Antigua and Barbuda,2004,0,2,0,7531,0,Antigua and Barbuda2004,0,11535,2\n",
            "Antigua and Barbuda,2004,0,3,0,12492,0,Antigua and Barbuda2004,0,11535,0\n",
            "Antigua and Barbuda,2004,0,0,0,8488,0,Antigua and Barbuda2004,0,11535,4\n",
            "Antigua and Barbuda,2004,0,4,0,4088,0,Antigua and Barbuda2004,0,11535,5\n",
            "Antigua and Barbuda,2004,0,5,0,1590,0,Antigua and Barbuda2004,0,11535,5\n",
            "Antigua and Barbuda,2004,1,1,0,6968,0,Antigua and Barbuda2004,0,11535,4\n",
            "Antigua and Barbuda,2004,1,2,0,6556,0,Antigua and Barbuda2004,0,11535,2\n",
            "Antigua and Barbuda,2004,1,0,0,8196,0,Antigua and Barbuda2004,0,11535,4\n",
            "Antigua and Barbuda,2004,1,5,0,1094,0,Antigua and Barbuda2004,0,11535,5\n",
            "Antigua and Barbuda,2005,0,1,0,7780,0,Antigua and Barbuda2005,0,12649,4\n",
            "Antigua and Barbuda,2005,0,2,0,7327,0,Antigua and Barbuda2005,0,12649,2\n",
            "Antigua and Barbuda,2005,0,3,0,12835,0,Antigua and Barbuda2005,0,12649,0\n",
            "Antigua and Barbuda,2005,0,0,0,8584,0,Antigua and Barbuda2005,0,12649,4\n",
            "Antigua and Barbuda,2005,0,4,0,4157,0,Antigua and Barbuda2005,0,12649,5\n",
            "Antigua and Barbuda,2005,0,5,0,1575,0,Antigua and Barbuda2005,0,12649,5\n",
            "Antigua and Barbuda,2005,1,1,0,7113,0,Antigua and Barbuda2005,0,12649,4\n",
            "Antigua and Barbuda,2005,1,2,0,6444,0,Antigua and Barbuda2005,0,12649,2\n",
            "Antigua and Barbuda,2005,1,3,0,11778,0,Antigua and Barbuda2005,0,12649,0\n",
            "Antigua and Barbuda,2005,1,0,0,8358,0,Antigua and Barbuda2005,0,12649,4\n",
            "Antigua and Barbuda,2005,1,4,0,3748,0,Antigua and Barbuda2005,0,12649,5\n",
            "Antigua and Barbuda,2005,1,5,0,1110,0,Antigua and Barbuda2005,0,12649,5\n",
            "Antigua and Barbuda,2006,0,1,0,7902,0,Antigua and Barbuda2006,0,14114,4\n",
            "Antigua and Barbuda,2006,0,2,0,7098,0,Antigua and Barbuda2006,0,14114,2\n",
            "Antigua and Barbuda,2006,0,3,0,13374,0,Antigua and Barbuda2006,0,14114,0\n",
            "Antigua and Barbuda,2006,0,0,0,8571,0,Antigua and Barbuda2006,0,14114,4\n",
            "Antigua and Barbuda,2006,0,4,0,4256,0,Antigua and Barbuda2006,0,14114,5\n",
            "Antigua and Barbuda,2006,0,5,0,1573,0,Antigua and Barbuda2006,0,14114,5\n",
            "Antigua and Barbuda,2006,1,1,0,7239,0,Antigua and Barbuda2006,0,14114,4\n",
            "Antigua and Barbuda,2006,1,2,0,6319,0,Antigua and Barbuda2006,0,14114,2\n"
          ],
          "name": "stdout"
        }
      ]
    }
  ]
}